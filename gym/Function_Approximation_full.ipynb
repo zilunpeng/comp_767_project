{
 "cells": [
  {
   "cell_type": "code",
   "execution_count": 1,
   "metadata": {
    "colab": {
     "autoexec": {
      "startup": false,
      "wait_interval": 0
     },
     "base_uri": "https://localhost:8080/",
     "height": 368,
     "output_extras": [
      {
       "item_id": 1
      }
     ]
    },
    "colab_type": "code",
    "executionInfo": {
     "elapsed": 599,
     "status": "error",
     "timestamp": 1521500359357,
     "user": {
      "displayName": "Helen You",
      "photoUrl": "//lh5.googleusercontent.com/-L0r56MGlys0/AAAAAAAAAAI/AAAAAAAAI2c/oTaf9rjcrEM/s50-c-k-no/photo.jpg",
      "userId": "112078549253970343821"
     },
     "user_tz": 240
    },
    "id": "wKJxpSmkc6xE",
    "outputId": "a4b7d071-9ab3-4094-8ac7-5be5d6dc6091"
   },
   "outputs": [],
   "source": [
    "import gym\n",
    "from gym.spaces import Discrete\n",
    "from gym.envs.registration import register\n",
    "import numpy as np\n",
    "import sys\n",
    "import matplotlib.pyplot as plt\n",
    "from IPython.display import display\n",
    "%matplotlib inline"
   ]
  },
  {
   "cell_type": "markdown",
   "metadata": {
    "colab_type": "text",
    "id": "oH-_eS9Cc6xH"
   },
   "source": [
    "Define environment for Boyan Chain"
   ]
  },
  {
   "cell_type": "code",
   "execution_count": 2,
   "metadata": {
    "colab": {
     "autoexec": {
      "startup": false,
      "wait_interval": 0
     }
    },
    "colab_type": "code",
    "id": "rjztfKhRc6xH"
   },
   "outputs": [],
   "source": [
    "class BoyanChainEnv(gym.Env):\n",
    "\n",
    "    def __init__(self):\n",
    "        self.num_states = 13;\n",
    "        self.action_space = Discrete(2);\n",
    "        self.reset()\n",
    "\n",
    "    def step(self, action):\n",
    "        assert self.action_space.contains(action), \"%r (%s) invalid\" % (action, type(action))\n",
    "        action = action+1\n",
    "        self.action = action\n",
    "        self.prev_state = self.cur_state\n",
    "        self.cur_state = self.prev_state-action\n",
    "        if self.cur_state == 0:\n",
    "            reward = -2\n",
    "            done = True\n",
    "        else:\n",
    "            reward = -3\n",
    "            done = False\n",
    "        self.episode_total_reward = self.episode_total_reward+reward\n",
    "\n",
    "        return {'cur_state':self.cur_state, 'prev_state':self.prev_state}, reward, done, {}\n",
    "\n",
    "\n",
    "    def reset(self):\n",
    "        self.cur_state = 12\n",
    "        self.time = 0\n",
    "        self.episode_total_reward = 0\n",
    "\n",
    "    def render(self, mode='human'):\n",
    "        outfile = sys.stdout\n",
    "        inp = \"time step: %d\\n\" % self.time\n",
    "        outfile.write(inp)\n",
    "        inp = \"took action %d at state %d and arrive at state %d\\n\" %(self.action, self.prev_state, self.cur_state)\n",
    "        outfile.write(inp)\n",
    "        outfile.write(\"total reward received so far is %d\\n\\n\" %self.episode_total_reward)"
   ]
  },
  {
   "cell_type": "markdown",
   "metadata": {
    "colab_type": "text",
    "id": "Epbqu2XJc6xJ"
   },
   "source": [
    "Register environment"
   ]
  },
  {
   "cell_type": "code",
   "execution_count": 3,
   "metadata": {
    "colab": {
     "autoexec": {
      "startup": false,
      "wait_interval": 0
     }
    },
    "colab_type": "code",
    "id": "Em6b-G1yc6xK"
   },
   "outputs": [],
   "source": [
    "register(\n",
    "    id='BoyanChainEnv-v0',\n",
    "    entry_point='gym.envs.algorithmic:BoyanChainEnv',\n",
    "    max_episode_steps=200,\n",
    ")\n",
    "env = gym.make('BoyanChainEnv-v0')"
   ]
  },
  {
   "cell_type": "markdown",
   "metadata": {
    "colab_type": "text",
    "id": "dX-KCkjJc6xN"
   },
   "source": [
    "Define the feature vectors for Boyan Chain"
   ]
  },
  {
   "cell_type": "code",
   "execution_count": 4,
   "metadata": {
    "colab": {
     "autoexec": {
      "startup": false,
      "wait_interval": 0
     }
    },
    "colab_type": "code",
    "id": "ALGUUe4wc6xN"
   },
   "outputs": [],
   "source": [
    "Phi = [np.array([0,0,0,0]), np.array([0,0,1/4,3/4]), np.array([0,0,1/2,1/2]), np.array([0,0,3/4,1/4]),\n",
    "       np.array([0,0,1,0]), np.array([0,1/4,3/4,0]), np.array([0,1/2,1/2,0]), np.array([0,3/4,1/4,0]),\n",
    "       np.array([0,1,0,0]), np.array([1/4,3/4,0,0]), np.array([1/2,1/2,0,0]), np.array([3/4,1/4,0,0]),\n",
    "       np.array([1,0,0,0])]"
   ]
  },
  {
   "cell_type": "markdown",
   "metadata": {
    "colab_type": "text",
    "id": "9F2ZP5thc6xP"
   },
   "source": [
    "Run offline LSTD($\\lambda$) on Boyan Chain"
   ]
  },
  {
   "cell_type": "code",
   "execution_count": 5,
   "metadata": {
    "colab": {
     "autoexec": {
      "startup": false,
      "wait_interval": 0
     }
    },
    "colab_type": "code",
    "id": "zWmrqIx1c6xQ"
   },
   "outputs": [],
   "source": [
    "def offline_LSTD_lambda_Boyan(lambda_lstd):\n",
    "    num_states = len(Phi)\n",
    "    num_features = len(Phi[0])\n",
    "    num_eps = 20\n",
    "    A = np.zeros((num_features, num_features))\n",
    "    b = np.zeros((num_features, 1))\n",
    "    beta_opt =np.array([-24,-16,-8,0]).reshape(num_features,1)\n",
    "    result = np.zeros((num_eps))\n",
    "\n",
    "    for i_episode in range(num_eps):\n",
    "        env.reset()\n",
    "        cur_state = num_states - 1\n",
    "        z = Phi[cur_state].reshape((num_features, 1))\n",
    "        for t in range(100):\n",
    "            if cur_state == 1:\n",
    "                action = 0\n",
    "            else:\n",
    "                action = env.action_space.sample() #we can take a sample here because an action is chosen with prob 50%\n",
    "            observation, reward, done, info = env.step(action)\n",
    "            cur_state = observation['cur_state']\n",
    "            prev_state = observation['prev_state']\n",
    "            A = A + z@(Phi[prev_state]-Phi[cur_state]).reshape((1,num_features))\n",
    "            b = b + reward*z\n",
    "            z = lambda_lstd*z + Phi[cur_state].reshape((num_features, 1))\n",
    "            #env.render()\n",
    "            if done:\n",
    "                #print(\"Episode finished after {} timesteps\".format(t+1))\n",
    "                break\n",
    "        beta = np.linalg.solve(A,b)\n",
    "        result[i_episode] = np.linalg.norm(beta-beta_opt,ord=np.inf)\n",
    "    return beta, result"
   ]
  },
  {
   "cell_type": "code",
   "execution_count": 6,
   "metadata": {
    "colab": {
     "autoexec": {
      "startup": false,
      "wait_interval": 0
     },
     "output_extras": [
      {}
     ]
    },
    "colab_type": "code",
    "id": "xz4ipkQxc6xS",
    "outputId": "01632873-4453-4d95-e3fe-acf2966cfaa6"
   },
   "outputs": [
    {
     "data": {
      "text/plain": [
       "(array([[-23.01793177],\n",
       "        [-14.90567642],\n",
       "        [ -7.51577873],\n",
       "        [  0.24691506]]),\n",
       " array([ 4.29954461,  4.10353006,  2.39934431,  2.45144097,  2.02363196,\n",
       "         1.50070896,  1.83446131,  2.14729416,  2.04166333,  1.57158964,\n",
       "         1.50659713,  1.69418628,  1.58071239,  1.43732772,  1.40779372,\n",
       "         1.22709937,  1.2595056 ,  1.28942755,  1.10308457,  1.09432358]))"
      ]
     },
     "execution_count": 6,
     "metadata": {},
     "output_type": "execute_result"
    }
   ],
   "source": [
    "offline_LSTD_lambda_Boyan(0.4)"
   ]
  },
  {
   "cell_type": "markdown",
   "metadata": {
    "colab_type": "text",
    "id": "Au81GkCyc6xW"
   },
   "source": [
    "First output in the above result is learned beta and it is very similar to the ground truth.\n",
    "\n",
    "In the recursive formulation of LSTD-$\\lambda$, we use Sherman-Morrison formula to approximate inverse of $A$. This update could cause numerical instabilities because the division in the formula will cause rounding errors. Now we show the implementation of recursive LSTD($\\lambda$) on Boyan chain"
   ]
  },
  {
   "cell_type": "code",
   "execution_count": 7,
   "metadata": {
    "colab": {
     "autoexec": {
      "startup": false,
      "wait_interval": 0
     }
    },
    "colab_type": "code",
    "id": "-S6LBp-ec6xX"
   },
   "outputs": [],
   "source": [
    "def recursive_LSTD_lambda_Boyan(lambda_lstd):\n",
    "    num_states = len(Phi)\n",
    "    num_features = len(Phi[0])\n",
    "    num_eps = 20\n",
    "    gamma = 1\n",
    "    A = (1/0.001) * np.identity(num_features)\n",
    "    b = np.zeros((num_features, 1))\n",
    "    beta_opt =np.array([-24,-16,-8,0]).reshape(num_features,1)\n",
    "    result = np.zeros((num_eps))\n",
    "\n",
    "    for i_episode in range(num_eps):\n",
    "        env.reset()\n",
    "        cur_state = num_states - 1\n",
    "        z = Phi[cur_state].reshape((num_features, 1))\n",
    "        for t in range(100):\n",
    "            if cur_state == 1:\n",
    "                action = 0\n",
    "            else:\n",
    "                action = env.action_space.sample()\n",
    "            observation, reward, done, info = env.step(action)\n",
    "            cur_state = observation['cur_state']\n",
    "            prev_state = observation['prev_state']\n",
    "            phi_x_cur = Phi[cur_state].reshape((num_features,1))\n",
    "            phi_x_prev = Phi[prev_state].reshape((num_features,1))\n",
    "            v = np.transpose(A) @ (phi_x_prev - gamma*phi_x_cur)\n",
    "            A = A - (A@z)@v.reshape(1,num_features)/(1+v.reshape(1,num_features)@z)\n",
    "            b = b + reward*z\n",
    "            z = lambda_lstd*z + phi_x_cur\n",
    "            #env.render()\n",
    "            if done:\n",
    "                #print(\"Episode finished after {} timesteps\".format(t+1))\n",
    "                break\n",
    "        beta = A@b\n",
    "        result[i_episode] = np.linalg.norm(beta-beta_opt,ord=np.inf)\n",
    "    return beta, result"
   ]
  },
  {
   "cell_type": "code",
   "execution_count": 8,
   "metadata": {
    "colab": {
     "autoexec": {
      "startup": false,
      "wait_interval": 0
     },
     "output_extras": [
      {}
     ]
    },
    "colab_type": "code",
    "id": "dpKuuUqHc6xZ",
    "outputId": "4b93f5a6-b0f8-4136-cc65-169d3fa016f7"
   },
   "outputs": [
    {
     "data": {
      "text/plain": [
       "(array([[-24.01776769],\n",
       "        [-16.21162303],\n",
       "        [ -7.91609973],\n",
       "        [  0.22149948]]),\n",
       " array([ 2.45127888,  1.00245769,  1.1387267 ,  0.66205689,  0.79894933,\n",
       "         1.05611376,  1.07762308,  0.88748174,  1.23017343,  0.98006625,\n",
       "         0.81539343,  0.67694838,  0.65474005,  0.4503371 ,  0.54171912,\n",
       "         0.37058533,  0.4132864 ,  0.52737599,  0.31352297,  0.22149948]))"
      ]
     },
     "execution_count": 8,
     "metadata": {},
     "output_type": "execute_result"
    }
   ],
   "source": [
    "recursive_LSTD_lambda_Boyan(0.4)"
   ]
  },
  {
   "cell_type": "markdown",
   "metadata": {
    "colab_type": "text",
    "id": "FU-M0lDTc6xd"
   },
   "source": [
    "This result is also pretty close to the ground truth, so this is nice. \n",
    "\n",
    "Now we examine the effect of $\\lambda$ on learning rate by using the offline approach"
   ]
  },
  {
   "cell_type": "code",
   "execution_count": 9,
   "metadata": {
    "colab": {
     "autoexec": {
      "startup": false,
      "wait_interval": 0
     },
     "output_extras": [
      {},
      {}
     ]
    },
    "colab_type": "code",
    "id": "S79x6IGSc6xe",
    "outputId": "f7db1ea2-d56a-4f91-eb09-7eee304e66d5"
   },
   "outputs": [
    {
     "data": {
      "text/plain": [
       "Text(0,0.5,'error between beta and beta*')"
      ]
     },
     "execution_count": 9,
     "metadata": {},
     "output_type": "execute_result"
    },
    {
     "data": {
      "image/png": "[encoded data removed]",
      "text/plain": [
       "<matplotlib.figure.Figure at 0x10f4871d0>"
      ]
     },
     "metadata": {},
     "output_type": "display_data"
    }
   ],
   "source": [
    "lambdas = [0.2, 0.4, 0.8, 1]\n",
    "plt.figure()\n",
    "for i in range(len(lambdas)):\n",
    "    #try each lambda 100 times and average the results\n",
    "    result = 0\n",
    "    for j in range(500):\n",
    "        beta, temp_result = offline_LSTD_lambda_Boyan(lambdas[i])\n",
    "        result = result + temp_result\n",
    "    result = result/500\n",
    "    line, = plt.plot(result)\n",
    "    line.set_label('lambda='+str(lambdas[i]))\n",
    "plt.legend()\n",
    "plt.xlabel('episode')\n",
    "plt.ylabel('error between beta and beta*')"
   ]
  },
  {
   "cell_type": "markdown",
   "metadata": {
    "colab_type": "text",
    "id": "D8dxOemjc6xg"
   },
   "source": [
    "We can also try different lambda on the recursive approach"
   ]
  },
  {
   "cell_type": "code",
   "execution_count": 0,
   "metadata": {
    "colab": {
     "autoexec": {
      "startup": false,
      "wait_interval": 0
     },
     "output_extras": [
      {},
      {}
     ]
    },
    "colab_type": "code",
    "id": "NrmVClNac6xh",
    "outputId": "fc12bca3-27bc-4eef-8ca4-9583bbdf460d"
   },
   "outputs": [
    {
     "data": {
      "text/plain": [
       "Text(0,0.5,'error between beta and beta*')"
      ]
     },
     "execution_count": 11,
     "metadata": {
      "tags": []
     },
     "output_type": "execute_result"
    },
    {
     "data": {
      "image/png": "[encoded data removed]",
      "text/plain": [
       "<matplotlib.figure.Figure at 0x10f644278>"
      ]
     },
     "metadata": {
      "tags": []
     },
     "output_type": "display_data"
    }
   ],
   "source": [
    "lambdas = [0.2, 0.4, 0.8, 1]\n",
    "plt.figure()\n",
    "for i in range(len(lambdas)):\n",
    "    #try each lambda 100 times and average the results\n",
    "    result = 0\n",
    "    for j in range(500):\n",
    "        beta, temp_result = recursive_LSTD_lambda_Boyan(lambdas[i])\n",
    "        result = result + temp_result\n",
    "    result = result/500\n",
    "    line, = plt.plot(result)\n",
    "    line.set_label('lambda='+str(lambdas[i]))\n",
    "plt.legend()\n",
    "plt.xlabel('episode')\n",
    "plt.ylabel('error between beta and beta*')"
   ]
  },
  {
   "cell_type": "markdown",
   "metadata": {
    "colab_type": "text",
    "id": "Cu-9bW39c6xj"
   },
   "source": [
    "Define the environment for five-states domain"
   ]
  },
  {
   "cell_type": "code",
   "execution_count": 10,
   "metadata": {
    "colab": {
     "autoexec": {
      "startup": false,
      "wait_interval": 0
     }
    },
    "colab_type": "code",
    "id": "IXSExfGTc6xk"
   },
   "outputs": [],
   "source": [
    "class FiveStateEnv(gym.Env):\n",
    "\n",
    "    Transistion = [np.array([0.42, 0.13, 0.14, 0.03, 0.28]),\n",
    "                   np.array([0.25, 0.09, 0.16, 0.35, 0.15]),\n",
    "                   np.array([0.08, 0.2, 0.33, 0.17, 0.22]),\n",
    "                   np.array([0.36, 0.05, 0, 0.52, 0.07]),\n",
    "                   np.array([0.17, 0.24, 0.19, 0.18, 0.22])]\n",
    "\n",
    "    Reward = [[104.66, 29.69, 82.36, 37.49, 68.82],\n",
    "              [75.86, 29.24, 100.37, 0.31, 35.99],\n",
    "              [57.68, 65.66, 56.95, 100.44, 47.63],\n",
    "              [96.23, 14.01, 0.88, 89.77, 66.77],\n",
    "              [70.35, 23.69, 73.41, 70.70, 85.41]]\n",
    "\n",
    "    reward_scaling_factor = 1\n",
    "\n",
    "    def __init__(self):\n",
    "        self.num_states = 5;\n",
    "        self.reset()\n",
    "\n",
    "    def step(self, action):\n",
    "        self.prev_state = self.cur_state\n",
    "        self.cur_state = np.random.choice(self.num_states, p=FiveStateEnv.Transistion[self.prev_state])\n",
    "        reward = self.reward_scaling_factor*FiveStateEnv.Reward[self.prev_state][self.cur_state]\n",
    "        done = False\n",
    "        self.time = self.time+1\n",
    "        self.episode_total_reward = self.episode_total_reward+reward\n",
    "\n",
    "        return {'cur_state':self.cur_state, 'prev_state':self.prev_state}, reward, done, {}\n",
    "\n",
    "\n",
    "    def reset(self):\n",
    "        self.cur_state = np.random.randint(5)\n",
    "        self.time = 0\n",
    "        self.episode_total_reward = 0\n",
    "        return self.cur_state\n",
    "\n",
    "    def render(self, mode='human'):\n",
    "        outfile = sys.stdout\n",
    "        inp = \"time step: %d\\n\" % self.time\n",
    "        outfile.write(inp)\n",
    "        inp = \"at state %d and arrive at state %d\\n\" %(self.prev_state, self.cur_state)\n",
    "        outfile.write(inp)\n",
    "        outfile.write(\"total reward received so far is %d\\n\\n\" %self.episode_total_reward)"
   ]
  },
  {
   "cell_type": "code",
   "execution_count": 11,
   "metadata": {
    "colab": {
     "autoexec": {
      "startup": false,
      "wait_interval": 0
     }
    },
    "colab_type": "code",
    "id": "Wm-cS323c6xo"
   },
   "outputs": [],
   "source": [
    "register(\n",
    "    id='FiveStateEnv-v0',\n",
    "    entry_point='gym.envs.algorithmic:FiveStateEnv',\n",
    "    max_episode_steps=500,\n",
    ")\n",
    "env = gym.make('FiveStateEnv-v0')"
   ]
  },
  {
   "cell_type": "markdown",
   "metadata": {
    "colab_type": "text",
    "id": "mH0eu6-Xc6xp"
   },
   "source": [
    "Define feature vectors for five-states environment"
   ]
  },
  {
   "cell_type": "code",
   "execution_count": 12,
   "metadata": {
    "colab": {
     "autoexec": {
      "startup": false,
      "wait_interval": 0
     }
    },
    "colab_type": "code",
    "id": "zYrp4JHhc6xr"
   },
   "outputs": [],
   "source": [
    "Phi = [np.array([74.29, 34.61, 73.48, 53.29, 7.79]),\n",
    "       np.array([61.6, 48.07, 34.68, 36.19, 82.02]),\n",
    "       np.array([97, 4.88, 8.51, 87.89, 5.17]),\n",
    "       np.array([41.1, 40.13, 64.63, 92.67, 31.09]),\n",
    "       np.array([7.76, 79.82, 43.78, 8.56, 61.11])]"
   ]
  },
  {
   "cell_type": "markdown",
   "metadata": {
    "colab_type": "text",
    "id": "6C0T9xL0c6xt"
   },
   "source": [
    "Now we show the implementation of offline LSTD($\\lambda$) and recursive LSTD($\\lambda$) on five-states domain"
   ]
  },
  {
   "cell_type": "code",
   "execution_count": 13,
   "metadata": {
    "colab": {
     "autoexec": {
      "startup": false,
      "wait_interval": 0
     }
    },
    "colab_type": "code",
    "id": "4rtVTE4Yc6xu"
   },
   "outputs": [],
   "source": [
    "def offline_LSTD_lambda_FiveStates(lambda_lstd):\n",
    "    num_states = len(Phi)\n",
    "    num_features = len(Phi[0])\n",
    "    num_episode = 50\n",
    "    num_steps = 40\n",
    "    gamma = 0.9\n",
    "    A = np.zeros((num_features, num_features))\n",
    "    b = np.zeros((num_features, 1))\n",
    "    theta_opt =np.array([3.916,9.374,-0.933,3.203,-1.093]).reshape(num_features,1)\n",
    "    result = np.zeros((num_episode))\n",
    "\n",
    "    cur_state = env.reset()\n",
    "    z = Phi[cur_state].reshape((num_features, 1))\n",
    "    for i in range(num_episode):\n",
    "        for t in range(num_steps):\n",
    "            observation, reward, done, info = env.step(0)\n",
    "            cur_state = observation['cur_state']\n",
    "            prev_state = observation['prev_state']\n",
    "            A = A + z@(Phi[prev_state]-gamma*Phi[cur_state]).reshape((1,num_features))\n",
    "            b = b + reward*z\n",
    "            z = lambda_lstd*z + Phi[cur_state].reshape((num_features, 1))\n",
    "            #env.render()\n",
    "        theta = np.linalg.solve(A, b)\n",
    "        result[i] = np.linalg.norm(theta - theta_opt, ord=2)\n",
    "    return theta, result"
   ]
  },
  {
   "cell_type": "code",
   "execution_count": 30,
   "metadata": {
    "colab": {
     "autoexec": {
      "startup": false,
      "wait_interval": 0
     }
    },
    "colab_type": "code",
    "id": "W6tiODNyc6xv"
   },
   "outputs": [],
   "source": [
    "def recursive_LSTD_lambda_FiveStates(lambda_lstd):\n",
    "    num_states = len(Phi)\n",
    "    num_features = len(Phi[0])\n",
    "    num_steps = 40\n",
    "    num_episode = 50\n",
    "    lambda_lstd = 0.2\n",
    "    gamma = 0.9\n",
    "    A = (1/0.01) * np.identity(num_features)\n",
    "    b = np.zeros((num_features, 1))\n",
    "    theta_opt =np.array([3.916,9.374,-0.933,3.203,-1.093]).reshape(num_features,1)\n",
    "    result = np.zeros((num_episode))\n",
    "\n",
    "    cur_state = env.reset()\n",
    "    z = Phi[cur_state].reshape((num_features, 1))\n",
    "    for i in range(num_episode):\n",
    "        for t in range(num_steps):\n",
    "            observation, reward, done, info = env.step(0)\n",
    "            cur_state = observation['cur_state']\n",
    "            prev_state = observation['prev_state']\n",
    "            phi_x_cur = Phi[cur_state].reshape((num_features,1))\n",
    "            phi_x_prev = Phi[prev_state].reshape((num_features,1))\n",
    "            v = np.transpose(A) @ (phi_x_prev - gamma*phi_x_cur)\n",
    "            A = A - (A@z)@v.reshape(1,num_features)/(1+v.reshape(1,num_features)@z)\n",
    "            b = b + reward*z\n",
    "            z = lambda_lstd*z + phi_x_cur\n",
    "            # env.render()\n",
    "        theta = A @ b\n",
    "        result[i] = np.linalg.norm(theta-theta_opt,ord=np.inf)\n",
    "    return theta, result"
   ]
  },
  {
   "cell_type": "code",
   "execution_count": 21,
   "metadata": {},
   "outputs": [
    {
     "data": {
      "text/plain": [
       "(array([[ 3.97655406],\n",
       "        [ 9.36317086],\n",
       "        [-0.97893084],\n",
       "        [ 3.09697991],\n",
       "        [-1.14169196]]),\n",
       " array([ 0.91465795,  0.83081741,  0.4544102 ,  0.26461785,  0.54549723,\n",
       "         0.63988474,  0.32115639,  0.45584682,  0.33870381,  0.36574055,\n",
       "         0.20207951,  0.14541084,  0.16330116,  0.19648577,  0.15928086,\n",
       "         0.15254133,  0.17104877,  0.16685842,  0.292905  ,  0.2883845 ,\n",
       "         0.3149235 ,  0.34799652,  0.31365789,  0.32930445,  0.3280576 ,\n",
       "         0.32349829,  0.2224018 ,  0.24961128,  0.25384661,  0.20479017,\n",
       "         0.17883755,  0.14340105,  0.14054014,  0.14818381,  0.19420863,\n",
       "         0.13830519,  0.13658083,  0.1499897 ,  0.14406384,  0.15532935,\n",
       "         0.15918105,  0.15203019,  0.16182838,  0.18032114,  0.18159612,\n",
       "         0.1651517 ,  0.16658999,  0.14392788,  0.14101436,  0.13965985]))"
      ]
     },
     "execution_count": 21,
     "metadata": {},
     "output_type": "execute_result"
    }
   ],
   "source": [
    "offline_LSTD_lambda_FiveStates(0.8)"
   ]
  },
  {
   "cell_type": "code",
   "execution_count": 31,
   "metadata": {},
   "outputs": [
    {
     "data": {
      "text/plain": [
       "(array([[ 3.9198799 ],\n",
       "        [ 9.29011668],\n",
       "        [-0.82949762],\n",
       "        [ 3.15848529],\n",
       "        [-1.11608482]]),\n",
       " array([ 0.65386691,  0.94389761,  0.39623108,  0.3412586 ,  0.27232294,\n",
       "         0.23423208,  0.12111416,  0.19813494,  0.21907942,  0.15445104,\n",
       "         0.13785565,  0.22916847,  0.14036406,  0.11893376,  0.11246858,\n",
       "         0.13467229,  0.11038773,  0.08339512,  0.11270285,  0.11929218,\n",
       "         0.11895691,  0.11697538,  0.11701135,  0.10309771,  0.10231864,\n",
       "         0.09144201,  0.10111955,  0.10180911,  0.10368983,  0.06829372,\n",
       "         0.08258935,  0.08932622,  0.10230291,  0.10604259,  0.10766508,\n",
       "         0.08968948,  0.0784992 ,  0.0808809 ,  0.08889224,  0.08411916,\n",
       "         0.08271687,  0.08564161,  0.0987365 ,  0.08586934,  0.08317422,\n",
       "         0.08694042,  0.09121044,  0.09314635,  0.09345595,  0.10350238]))"
      ]
     },
     "execution_count": 31,
     "metadata": {},
     "output_type": "execute_result"
    }
   ],
   "source": [
    "recursive_LSTD_lambda_FiveStates(0.8)"
   ]
  },
  {
   "cell_type": "code",
   "execution_count": 29,
   "metadata": {
    "colab": {
     "autoexec": {
      "startup": false,
      "wait_interval": 0
     },
     "output_extras": [
      {},
      {}
     ]
    },
    "colab_type": "code",
    "id": "kUZMzy3_c6xy",
    "outputId": "26723db3-c20e-49a8-bb44-0e3b248bd705"
   },
   "outputs": [
    {
     "data": {
      "text/plain": [
       "Text(0,0.5,'error between theta and theta*')"
      ]
     },
     "execution_count": 29,
     "metadata": {},
     "output_type": "execute_result"
    },
    {
     "data": {
      "image/png": "[encoded data removed]",
      "text/plain": [
       "<matplotlib.figure.Figure at 0x10f84a048>"
      ]
     },
     "metadata": {},
     "output_type": "display_data"
    }
   ],
   "source": [
    "lambdas = [0.2, 0.4, 0.8, 1]\n",
    "plt.figure()\n",
    "for i in range(len(lambdas)):\n",
    "    #try each lambda 200 times and average the results\n",
    "    result = 0\n",
    "    for j in range(200):\n",
    "        theta,temp_result = recursive_LSTD_lambda_FiveStates(lambdas[i])\n",
    "        result = result + temp_result\n",
    "    result = result/200\n",
    "    line, = plt.plot(result)\n",
    "    line.set_label('lambda='+str(lambdas[i]))\n",
    "plt.legend()\n",
    "plt.xlabel('time step')\n",
    "plt.ylabel('error between theta and theta*')"
   ]
  },
  {
   "cell_type": "code",
   "execution_count": 33,
   "metadata": {
    "colab": {
     "autoexec": {
      "startup": false,
      "wait_interval": 0
     },
     "output_extras": [
      {},
      {}
     ]
    },
    "colab_type": "code",
    "id": "8FxzKPyOc6x2",
    "outputId": "c1ccc165-0378-47c7-a686-386c9be925aa"
   },
   "outputs": [
    {
     "data": {
      "text/plain": [
       "Text(0,0.5,'error between theta and theta*')"
      ]
     },
     "execution_count": 33,
     "metadata": {},
     "output_type": "execute_result"
    },
    {
     "data": {
      "image/png": "[encoded data removed]",
      "text/plain": [
       "<matplotlib.figure.Figure at 0x10faef940>"
      ]
     },
     "metadata": {},
     "output_type": "display_data"
    }
   ],
   "source": [
    "lambdas = [0.2, 0.4, 0.8]\n",
    "plt.figure()\n",
    "for i in range(len(lambdas)):\n",
    "    #try each lambda 200 times and average the results\n",
    "    result = 0\n",
    "    for j in range(200):\n",
    "        theta, temp_result = offline_LSTD_lambda_FiveStates(lambdas[i])\n",
    "        result = result + temp_result\n",
    "    result = result/200\n",
    "    line, = plt.plot(result)\n",
    "    line.set_label('lambda='+str(lambdas[i]))\n",
    "plt.legend()\n",
    "plt.xlabel('time step')\n",
    "plt.ylabel('error between theta and theta*')"
   ]
  },
  {
   "cell_type": "markdown",
   "metadata": {
    "colab_type": "text",
    "id": "25R8OYygdVFc"
   },
   "source": [
    "## Part 3.1: Equivalence of LSTD(1) and linear regression verification - Boyan Chain\n",
    "\n",
    "To compute A and b with linear regression, we used the fomula provided under Appendix (P244) of Boyan's paper."
   ]
  },
  {
   "cell_type": "code",
   "execution_count": 9,
   "metadata": {
    "colab": {
     "autoexec": {
      "startup": false,
      "wait_interval": 0
     }
    },
    "colab_type": "code",
    "id": "brtRuUwLdlcZ"
   },
   "outputs": [
    {
     "name": "stdout",
     "output_type": "stream",
     "text": [
      "\n",
      "Equivalence of LSTD(1) and linear regression verification for Boyan env:\n",
      "beta_LSTD:\n",
      "[[-23.34141129]\n",
      " [-15.39777963]\n",
      " [ -7.29149346]\n",
      " [  0.12872651]]\n",
      "beta_LR:\n",
      "[[-23.34141129]\n",
      " [-15.39777963]\n",
      " [ -7.29149346]\n",
      " [  0.12872651]]\n",
      "A_LSTD:\n",
      "[[ 74.375  19.125   0.      0.   ]\n",
      " [ 19.125  92.375  20.5     0.   ]\n",
      " [  0.     20.5    90.     20.5  ]\n",
      " [  0.      0.     20.5    27.   ]]\n",
      "A_LR:\n",
      "[[ 74.375  19.125   0.      0.   ]\n",
      " [ 19.125  92.375  20.5     0.   ]\n",
      " [  0.     20.5    90.     20.5  ]\n",
      " [  0.      0.     20.5    27.   ]]\n",
      "b_LSTD:\n",
      "[[-2030.5 ]\n",
      " [-2018.25]\n",
      " [ -969.25]\n",
      " [ -146.  ]]\n",
      "b_LR:\n",
      "[[-2030.5 ]\n",
      " [-2018.25]\n",
      " [ -969.25]\n",
      " [ -146.  ]]\n"
     ]
    }
   ],
   "source": [
    "Phi = [np.array([0,0,0,0]), np.array([0,0,1/4,3/4]), np.array([0,0,1/2,1/2]), np.array([0,0,3/4,1/4]),\n",
    "       np.array([0,0,1,0]), np.array([0,1/4,3/4,0]), np.array([0,1/2,1/2,0]), np.array([0,3/4,1/4,0]),\n",
    "       np.array([0,1,0,0]), np.array([1/4,3/4,0,0]), np.array([1/2,1/2,0,0]), np.array([3/4,1/4,0,0]),\n",
    "       np.array([1,0,0,0])]\n",
    "\n",
    "num_states = len(Phi)\n",
    "num_features = len(Phi[0])\n",
    "A = np.zeros((num_features, num_features))\n",
    "b = np.zeros((num_features, 1))\n",
    "A_LSTD = np.zeros((num_features, num_features))\n",
    "b_LSTD = np.zeros((num_features, 1))\n",
    "lambda_lstd = 1.0#0.4\n",
    "\n",
    "for i_episode in range(50):\n",
    "    env.reset()\n",
    "    traj = []\n",
    "    rewards = []\n",
    "    cur_state = num_states - 1\n",
    "    z_LSTD = Phi[cur_state].reshape((num_features, 1))\n",
    "\n",
    "    for t in range(100):\n",
    "        if cur_state == 1:\n",
    "            action = 0\n",
    "        else:\n",
    "            action = env.action_space.sample() #we can take a sample here because an action is chosen with prob 50%\n",
    "        observation, reward, done, info = env.step(action)\n",
    "        cur_state = observation['cur_state']\n",
    "        prev_state = observation['prev_state']\n",
    "        traj.append(prev_state)\n",
    "        rewards.append(reward)\n",
    "        A_LSTD = A_LSTD + z_LSTD@(Phi[prev_state]-Phi[cur_state]).reshape((1,num_features))\n",
    "        b_LSTD = b_LSTD + reward*z_LSTD\n",
    "        z_LSTD = lambda_lstd*z_LSTD + Phi[cur_state].reshape((num_features, 1))\n",
    "        if done:\n",
    "            break\n",
    "    \n",
    "    beta_LSTD = np.linalg.solve(A_LSTD,b_LSTD)\n",
    "    \n",
    "    for idx, x in enumerate(traj):\n",
    "        y_x = sum(rewards[idx:])\n",
    "        temp = Phi[x].reshape((num_features, 1))\n",
    "        b = b + temp*y_x\n",
    "        A = A + temp @ np.transpose(temp)\n",
    "    beta = np.linalg.solve(A,b)\n",
    "\n",
    "print(\"\\nEquivalence of LSTD(1) and linear regression verification for Boyan env:\")\n",
    "\n",
    "print(\"beta_LSTD:\\n{}\".format(beta_LSTD))\n",
    "print(\"beta_LR:\\n{}\".format(beta))\n",
    "\n",
    "print(\"A_LSTD:\\n{}\".format(A_LSTD))\n",
    "print(\"A_LR:\\n{}\".format(A))\n",
    "\n",
    "print(\"b_LSTD:\\n{}\".format(b_LSTD))\n",
    "print(\"b_LR:\\n{}\".format(b))\n"
   ]
  },
  {
   "cell_type": "markdown",
   "metadata": {
    "colab_type": "text",
    "id": "2i1tk2GNfIR_"
   },
   "source": [
    "## Part 3.2: Equivalence of LSTD(1) and linear regression verification - Five State\n",
    "simple modification made on the linear regression fomula from the Boyan's paper to accommodate five state convergence requirement by introducing gamma.\n",
    "The modified linear regression fomula used can be derived with the following:\n",
    "\n",
    "\\begin{align}\n",
    "\\mathbf{A} &= \\sum_{i=0}^L \\mathbf{z}_{t}(\\phi_{i}-\\gamma\\phi_{i+1})^T \\notag\\\\\n",
    "&= \\sum_{i=0}^L(\\sum_{j=0}^i\\phi_{j})(\\phi_{i}-\\gamma\\phi_{i+1})^T \\notag\\\\\n",
    "&= \\sum_{i=0}^L\\sum_{j=0}^i\\phi_{j}\\phi_{i}^T - \\gamma\\sum_{i=0}^L\\sum_{j=0}^i\\phi_{j}\\phi_{i+1}^T \\notag\\\\\n",
    "&=(\\phi_{0}\\phi_{0}^T + \\sum_{i=1}^L\\sum_{j=0}^i\\phi_{j}\\phi_{i}^T) - \\gamma(\\sum_{k=1}^{L+1}\\sum_{j=0}^{k-1})\\phi_{j}\\phi_{k}^T) \\notag\\\\\n",
    "&=\\phi_{0}\\phi_{0}^T + \\sum_{i=1}^L\\sum_{j=0}^i\\phi_{j}\\phi_{i}^T - \\gamma\\sum_{k=1}^{L}\\sum_{j=0}^{k-1}\\phi_{j}\\phi_{k}^T) \\notag\\\\\n",
    "&=\\phi_{0}\\phi_{0}^T + \\sum_{i=1}^L(\\sum_{j=0}^i\\phi_{j}\\phi_{i}^T) - \\gamma\\sum_{j=0}^{i-1}\\phi_{j}\\phi_{i}^T) \\notag\\\\\n",
    "&=\\phi_{0}\\phi_{0}^T + \\sum_{i=1}^L(\\sum_{j=0}^{i-1}\\phi_{j}\\phi_{i}^T + \\phi_{i}\\phi_{i}^T - \\gamma\\sum_{j=0}^{i-1}\\phi_{j}\\phi_{i}^T) \\notag\\\\\n",
    "&=\\phi_{0}\\phi_{0}^T + \\sum_{i=1}^L[(1-\\gamma)\\sum_{j=0}^{i-1}\\phi_{j}\\phi_{i}^T + \\phi_{i}\\phi_{i}^T] \\notag\n",
    "\\end{align}"
   ]
  },
  {
   "cell_type": "code",
   "execution_count": 12,
   "metadata": {
    "colab": {
     "autoexec": {
      "startup": false,
      "wait_interval": 0
     }
    },
    "colab_type": "code",
    "id": "bJNemfkFoZLv"
   },
   "outputs": [
    {
     "name": "stdout",
     "output_type": "stream",
     "text": [
      "\n",
      "Equivalence of LSTD(1) and linear regression verification for FIVE STATE env:\n",
      "beta_LSTD:\n",
      "[[ 3.81929948]\n",
      " [ 8.44180065]\n",
      " [-0.91298288]\n",
      " [ 3.55099366]\n",
      " [-0.46503439]]\n",
      "beta_LR:\n",
      "[[ 3.82388096]\n",
      " [ 8.19625009]\n",
      " [-0.85120155]\n",
      " [ 3.67615387]\n",
      " [-0.50084775]]\n",
      "A_LSTD:\n",
      "[[  1.54163170e+10   1.18653729e+10   1.42651346e+10   1.56577443e+10\n",
      "    9.40479610e+09]\n",
      " [  1.14769542e+10   8.85366685e+09   1.06333603e+10   1.16588560e+10\n",
      "    7.01881381e+09]\n",
      " [  1.40602293e+10   1.08360884e+10   1.30246111e+10   1.42840302e+10\n",
      "    8.58704659e+09]\n",
      " [  1.56819170e+10   1.20741319e+10   1.45164342e+10   1.59356413e+10\n",
      "    9.56942912e+09]\n",
      " [  9.03043230e+09   6.96778878e+09   8.36528954e+09   9.17353497e+09\n",
      "    5.52748549e+09]]\n",
      "A_LR:\n",
      "[[  1.54337190e+10   1.18831020e+10   1.42946512e+10   1.57009496e+10\n",
      "    9.41851012e+09]\n",
      " [  1.14902085e+10   8.86706600e+09   1.06556571e+10   1.16915786e+10\n",
      "    7.02915461e+09]\n",
      " [  1.40763071e+10   1.08523283e+10   1.30515484e+10   1.43237795e+10\n",
      "    8.59968345e+09]\n",
      " [  1.56996756e+10   1.20921851e+10   1.45462933e+10   1.59794050e+10\n",
      "    9.58344015e+09]\n",
      " [  9.04091319e+09   6.97839863e+09   8.38289697e+09   9.19926669e+09\n",
      "    5.53566318e+09]]\n",
      "b_LSTD:\n",
      "[[  1.97247818e+11]\n",
      " [  1.47003274e+11]\n",
      " [  1.80014306e+11]\n",
      " [  2.00705344e+11]\n",
      " [  1.15677937e+11]]\n",
      "b_LR:\n",
      "[[  1.97247818e+11]\n",
      " [  1.47003274e+11]\n",
      " [  1.80014306e+11]\n",
      " [  2.00705344e+11]\n",
      " [  1.15677937e+11]]\n"
     ]
    }
   ],
   "source": [
    "Phi = [np.array([74.29, 34.61, 73.48, 53.29, 7.79]),\n",
    "       np.array([61.6, 48.07, 34.68, 36.19, 82.02]),\n",
    "       np.array([97, 4.88, 8.51, 87.89, 5.17]),\n",
    "       np.array([41.1, 40.13, 64.63, 92.67, 31.09]),\n",
    "       np.array([7.76, 79.82, 43.78, 8.56, 61.11])]\n",
    "\n",
    "num_states = len(Phi)\n",
    "num_features = len(Phi[0])\n",
    "lambda_lstd = 1.0  # 0.4\n",
    "A = np.zeros((num_features, num_features))\n",
    "b = np.zeros((num_features, 1))\n",
    "gamma = 0.9\n",
    "A_LSTD = np.zeros((num_features, num_features))\n",
    "b_LSTD = np.zeros((num_features, 1))\n",
    "\n",
    "for i_episode in range(1):\n",
    "    cur_state = env.reset()\n",
    "    traj = []\n",
    "    rewards = []\n",
    "    z = Phi[cur_state].reshape((num_features, 1))\n",
    "    for t in range(10000):\n",
    "        observation, reward, done, info = env.step(0)\n",
    "        cur_state = observation['cur_state']\n",
    "        prev_state = observation['prev_state']\n",
    "        traj.append(prev_state)\n",
    "        rewards.append(reward)\n",
    "        A_LSTD = A_LSTD + z @ (Phi[prev_state] - gamma * Phi[cur_state]).reshape((1, num_features))\n",
    "        b_LSTD = b_LSTD + reward * z\n",
    "        z = lambda_lstd * z + Phi[cur_state].reshape((num_features, 1))\n",
    "        # env.render()\n",
    "\n",
    "    start = traj[0]\n",
    "    temp = Phi[start].reshape((num_features, 1))\n",
    "    A = A + temp @ np.transpose(temp)\n",
    "    for idx_i, x in enumerate(traj):\n",
    "        y_x = sum(rewards[idx_i:])\n",
    "        temp_i = Phi[x].reshape((num_features, 1))\n",
    "        b = b + temp_i * y_x\n",
    "        if idx_i != 0:\n",
    "            subtotal = 0\n",
    "            for idx_j in range(idx_i - 1):\n",
    "                sta = traj[idx_j]\n",
    "                temp_j = Phi[sta].reshape((num_features, 1))\n",
    "                subtotal = subtotal + temp_j * np.transpose(temp_i)\n",
    "            subtotal = subtotal * (1 - gamma)\n",
    "            subtotal = subtotal + temp_i @ np.transpose(temp_i)\n",
    "            A = A + subtotal\n",
    "\n",
    "beta_LSTD = np.linalg.solve(A_LSTD, b_LSTD)\n",
    "beta = np.linalg.solve(A, b)\n",
    "\n",
    "print(\"\\nEquivalence of LSTD(1) and linear regression verification for FIVE STATE env:\")\n",
    "\n",
    "print(\"beta_LSTD:\\n{}\".format(beta_LSTD))\n",
    "print(\"beta_LR:\\n{}\".format(beta))\n",
    "\n",
    "print(\"A_LSTD:\\n{}\".format(A_LSTD))\n",
    "print(\"A_LR:\\n{}\".format(A))\n",
    "\n",
    "print(\"b_LSTD:\\n{}\".format(b_LSTD))\n",
    "print(\"b_LR:\\n{}\".format(b))\n",
    "\n"
   ]
  },
  {
   "cell_type": "markdown",
   "metadata": {
    "colab_type": "text",
    "id": "AU8WwzBCrIB8"
   },
   "source": [
    "**As shown in the output, the A and b values from LSTD(1) and linear regression verification match for both cases.**"
   ]
  }
 ],
 "metadata": {
  "colab": {
   "default_view": {},
   "name": "Function_Approximation.ipynb",
   "provenance": [],
   "version": "0.3.2",
   "views": {}
  },
  "kernelspec": {
   "display_name": "Python 3",
   "language": "python",
   "name": "python3"
  },
  "language_info": {
   "codemirror_mode": {
    "name": "ipython",
    "version": 3
   },
   "file_extension": ".py",
   "mimetype": "text/x-python",
   "name": "python",
   "nbconvert_exporter": "python",
   "pygments_lexer": "ipython3",
   "version": "3.6.1rc1"
  }
 },
 "nbformat": 4,
 "nbformat_minor": 1
}
